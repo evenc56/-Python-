{
 "cells": [
  {
   "cell_type": "code",
   "execution_count": 1,
   "metadata": {},
   "outputs": [
    {
     "name": "stdout",
     "output_type": "stream",
     "text": [
      "Populating the interactive namespace from numpy and matplotlib\n"
     ]
    }
   ],
   "source": [
    "#需先匯入 pylab\n",
    "%pylab inline"
   ]
  },
  {
   "cell_type": "code",
   "execution_count": 2,
   "metadata": {},
   "outputs": [
    {
     "name": "stdout",
     "output_type": "stream",
     "text": [
      "全民猜猜股價王 🤷‍♀️\n",
      "請猜猜 stock A 的現在股價是：(只能填數字喔！)　87\n",
      "比你猜的小，再試一次：33\n",
      "比你猜的大，再試一次：40\n",
      "比你猜的小，再試一次：36\n",
      "比你猜的小，再試一次：34\n",
      "比你猜的大，再試一次：35\n",
      "你好神！\n",
      "正確答案為 35\n"
     ]
    }
   ],
   "source": [
    "print(\"全民猜猜股價王 🤷‍♀️\")\n",
    "input_line = input(\"請猜猜 stock A 的現在股價是：(只能填數字喔！)　\")\n",
    "stock_a = randint(10,50)\n",
    "\n",
    "while input_line != stock_a:\n",
    "    if int(input_line) > stock_a:\n",
    "        input_line = input(\"比你猜的小，再試一次：\")\n",
    "    elif int(input_line) < stock_a:\n",
    "        input_line = input(\"比你猜的大，再試一次：\")\n",
    "    else:\n",
    "        print(\"你好神！\")\n",
    "        print(\"正確答案為 \" + str(stock_a))\n",
    "        stock_a = input_line"
   ]
  },
  {
   "cell_type": "code",
   "execution_count": 3,
   "metadata": {},
   "outputs": [
    {
     "name": "stdout",
     "output_type": "stream",
     "text": [
      "Let's guess the stock price! 🤷‍♀️\n"
     ]
    }
   ],
   "source": [
    "#English Version\n",
    "print(\"Let's guess the stock price! 🤷‍♀️\")"
   ]
  },
  {
   "cell_type": "code",
   "execution_count": 4,
   "metadata": {},
   "outputs": [
    {
     "name": "stdout",
     "output_type": "stream",
     "text": [
      "Please guess the current stock price of A:43\n",
      "Smaller than you've thought, try again:32\n",
      "Smaller than you've thought, try again:11\n",
      "Higher than you've thought, try again:19\n",
      "Smaller than you've thought, try again:16\n",
      "Higher than you've thought, try again:17\n",
      "Higher than you've thought, try again:18\n",
      "Superb!\n",
      "Correct answer is 18\n"
     ]
    }
   ],
   "source": [
    "stock_a = randint(10,50)\n",
    "input_line = input(\"Please guess the current stock price of A:\")\n",
    "\n",
    "while input_line != stock_a:\n",
    "    if int(input_line) > stock_a:\n",
    "        input_line = input(\"Smaller than you've thought, try again:\")\n",
    "    elif int(input_line) < stock_a:\n",
    "        input_line = input(\"Higher than you've thought, try again:\")\n",
    "    else:\n",
    "        print(\"Superb!\")\n",
    "        print(\"Correct answer is \" + str(stock_a))\n",
    "        stock_a = input_line"
   ]
  },
  {
   "cell_type": "code",
   "execution_count": null,
   "metadata": {},
   "outputs": [],
   "source": []
  }
 ],
 "metadata": {
  "kernelspec": {
   "display_name": "Python 3",
   "language": "python",
   "name": "python3"
  },
  "language_info": {
   "codemirror_mode": {
    "name": "ipython",
    "version": 3
   },
   "file_extension": ".py",
   "mimetype": "text/x-python",
   "name": "python",
   "nbconvert_exporter": "python",
   "pygments_lexer": "ipython3",
   "version": "3.8.5"
  }
 },
 "nbformat": 4,
 "nbformat_minor": 4
}
