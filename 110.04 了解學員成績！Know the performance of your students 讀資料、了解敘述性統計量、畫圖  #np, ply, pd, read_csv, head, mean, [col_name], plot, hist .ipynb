{
 "cells": [
  {
   "cell_type": "code",
   "execution_count": 1,
   "metadata": {},
   "outputs": [],
   "source": [
    "%matplotlib inline\n",
    "import numpy as np\n",
    "import matplotlib.pyplot as plt\n",
    "import pandas as pd"
   ]
  },
  {
   "cell_type": "code",
   "execution_count": 2,
   "metadata": {},
   "outputs": [],
   "source": [
    "#處理 plt 圖形顯示中文字時遇到的問題\n",
    "#matplotlib.matplotlib_fname()\n",
    "plt.rcParams['font.sans-serif'] = ['Microsoft JhengHei'] \n",
    "plt.rcParams['axes.unicode_minus'] = False"
   ]
  },
  {
   "cell_type": "markdown",
   "metadata": {},
   "source": [
    "# 使用 NCCU MOOCS 課程提供的 grades.csv 範例檔\n",
    "不過修改了科目名稱，改成喜歡的科目，比較有趣！"
   ]
  },
  {
   "cell_type": "code",
   "execution_count": 3,
   "metadata": {},
   "outputs": [
    {
     "data": {
      "text/html": [
       "<div>\n",
       "<style scoped>\n",
       "    .dataframe tbody tr th:only-of-type {\n",
       "        vertical-align: middle;\n",
       "    }\n",
       "\n",
       "    .dataframe tbody tr th {\n",
       "        vertical-align: top;\n",
       "    }\n",
       "\n",
       "    .dataframe thead th {\n",
       "        text-align: right;\n",
       "    }\n",
       "</style>\n",
       "<table border=\"1\" class=\"dataframe\">\n",
       "  <thead>\n",
       "    <tr style=\"text-align: right;\">\n",
       "      <th></th>\n",
       "      <th>姓名</th>\n",
       "      <th>國文</th>\n",
       "      <th>英文</th>\n",
       "      <th>數學</th>\n",
       "      <th>自然</th>\n",
       "      <th>社會</th>\n",
       "    </tr>\n",
       "  </thead>\n",
       "  <tbody>\n",
       "    <tr>\n",
       "      <th>0</th>\n",
       "      <td>劉俊安</td>\n",
       "      <td>9</td>\n",
       "      <td>10</td>\n",
       "      <td>15</td>\n",
       "      <td>10</td>\n",
       "      <td>13</td>\n",
       "    </tr>\n",
       "    <tr>\n",
       "      <th>1</th>\n",
       "      <td>胡玉華</td>\n",
       "      <td>10</td>\n",
       "      <td>10</td>\n",
       "      <td>10</td>\n",
       "      <td>8</td>\n",
       "      <td>9</td>\n",
       "    </tr>\n",
       "    <tr>\n",
       "      <th>2</th>\n",
       "      <td>黃淑婷</td>\n",
       "      <td>13</td>\n",
       "      <td>15</td>\n",
       "      <td>8</td>\n",
       "      <td>11</td>\n",
       "      <td>14</td>\n",
       "    </tr>\n",
       "    <tr>\n",
       "      <th>3</th>\n",
       "      <td>陳上紫</td>\n",
       "      <td>10</td>\n",
       "      <td>10</td>\n",
       "      <td>8</td>\n",
       "      <td>9</td>\n",
       "      <td>14</td>\n",
       "    </tr>\n",
       "    <tr>\n",
       "      <th>4</th>\n",
       "      <td>崔靜成</td>\n",
       "      <td>13</td>\n",
       "      <td>12</td>\n",
       "      <td>14</td>\n",
       "      <td>12</td>\n",
       "      <td>13</td>\n",
       "    </tr>\n",
       "    <tr>\n",
       "      <th>5</th>\n",
       "      <td>張雅岳</td>\n",
       "      <td>13</td>\n",
       "      <td>12</td>\n",
       "      <td>12</td>\n",
       "      <td>12</td>\n",
       "      <td>8</td>\n",
       "    </tr>\n",
       "  </tbody>\n",
       "</table>\n",
       "</div>"
      ],
      "text/plain": [
       "    姓名  國文  英文  數學  自然  社會\n",
       "0  劉俊安   9  10  15  10  13\n",
       "1  胡玉華  10  10  10   8   9\n",
       "2  黃淑婷  13  15   8  11  14\n",
       "3  陳上紫  10  10   8   9  14\n",
       "4  崔靜成  13  12  14  12  13\n",
       "5  張雅岳  13  12  12  12   8"
      ]
     },
     "execution_count": 3,
     "metadata": {},
     "output_type": "execute_result"
    }
   ],
   "source": [
    "#可先用 %ls 指令了解目前所處路徑裡，存有哪些檔案。例如確認有 grades.csv，即可使用檔名直接讀取\n",
    "df_grades = pd.read_csv('grades.csv')\n",
    "df_grades.head(6)  #希望跑出 6 列，而 python 指標從 0 開始，所以會秀到索引值為 5 那一列"
   ]
  },
  {
   "cell_type": "markdown",
   "metadata": {},
   "source": [
    "### 1. 檢視及調整資料"
   ]
  },
  {
   "cell_type": "code",
   "execution_count": 4,
   "metadata": {},
   "outputs": [
    {
     "name": "stdout",
     "output_type": "stream",
     "text": [
      "<class 'pandas.core.frame.DataFrame'>\n",
      "RangeIndex: 100 entries, 0 to 99\n",
      "Data columns (total 6 columns):\n",
      " #   Column  Non-Null Count  Dtype \n",
      "---  ------  --------------  ----- \n",
      " 0   姓名      100 non-null    object\n",
      " 1   國文      100 non-null    int64 \n",
      " 2   英文      100 non-null    int64 \n",
      " 3   數學      100 non-null    int64 \n",
      " 4   自然      100 non-null    int64 \n",
      " 5   社會      100 non-null    int64 \n",
      "dtypes: int64(5), object(1)\n",
      "memory usage: 4.8+ KB\n"
     ]
    }
   ],
   "source": [
    "df_grades.info()  #看整個資料的行列數資訊，此函數還會附上其他 info；也可以用 shape"
   ]
  },
  {
   "cell_type": "code",
   "execution_count": 5,
   "metadata": {},
   "outputs": [
    {
     "data": {
      "text/html": [
       "<div>\n",
       "<style scoped>\n",
       "    .dataframe tbody tr th:only-of-type {\n",
       "        vertical-align: middle;\n",
       "    }\n",
       "\n",
       "    .dataframe tbody tr th {\n",
       "        vertical-align: top;\n",
       "    }\n",
       "\n",
       "    .dataframe thead th {\n",
       "        text-align: right;\n",
       "    }\n",
       "</style>\n",
       "<table border=\"1\" class=\"dataframe\">\n",
       "  <thead>\n",
       "    <tr style=\"text-align: right;\">\n",
       "      <th></th>\n",
       "      <th>ID</th>\n",
       "      <th>姓名 Name</th>\n",
       "      <th>消費者行為_Consumer_Behavior</th>\n",
       "      <th>管理學 Management Science</th>\n",
       "      <th>行銷學 Marketing</th>\n",
       "      <th>組織行為 Oraganizational Behavior</th>\n",
       "      <th>人力資源管理 Human Resource Management</th>\n",
       "    </tr>\n",
       "  </thead>\n",
       "  <tbody>\n",
       "    <tr>\n",
       "      <th>0</th>\n",
       "      <td>100</td>\n",
       "      <td>劉俊安</td>\n",
       "      <td>9</td>\n",
       "      <td>10</td>\n",
       "      <td>15</td>\n",
       "      <td>10</td>\n",
       "      <td>13</td>\n",
       "    </tr>\n",
       "    <tr>\n",
       "      <th>1</th>\n",
       "      <td>101</td>\n",
       "      <td>胡玉華</td>\n",
       "      <td>10</td>\n",
       "      <td>10</td>\n",
       "      <td>10</td>\n",
       "      <td>8</td>\n",
       "      <td>9</td>\n",
       "    </tr>\n",
       "    <tr>\n",
       "      <th>2</th>\n",
       "      <td>102</td>\n",
       "      <td>黃淑婷</td>\n",
       "      <td>13</td>\n",
       "      <td>15</td>\n",
       "      <td>8</td>\n",
       "      <td>11</td>\n",
       "      <td>14</td>\n",
       "    </tr>\n",
       "    <tr>\n",
       "      <th>3</th>\n",
       "      <td>103</td>\n",
       "      <td>陳上紫</td>\n",
       "      <td>10</td>\n",
       "      <td>10</td>\n",
       "      <td>8</td>\n",
       "      <td>9</td>\n",
       "      <td>14</td>\n",
       "    </tr>\n",
       "    <tr>\n",
       "      <th>4</th>\n",
       "      <td>104</td>\n",
       "      <td>崔靜成</td>\n",
       "      <td>13</td>\n",
       "      <td>12</td>\n",
       "      <td>14</td>\n",
       "      <td>12</td>\n",
       "      <td>13</td>\n",
       "    </tr>\n",
       "  </tbody>\n",
       "</table>\n",
       "</div>"
      ],
      "text/plain": [
       "    ID 姓名 Name  消費者行為_Consumer_Behavior  管理學 Management Science  \\\n",
       "0  100     劉俊安                        9                      10   \n",
       "1  101     胡玉華                       10                      10   \n",
       "2  102     黃淑婷                       13                      15   \n",
       "3  103     陳上紫                       10                      10   \n",
       "4  104     崔靜成                       13                      12   \n",
       "\n",
       "   行銷學 Marketing  組織行為 Oraganizational Behavior  \\\n",
       "0             15                             10   \n",
       "1             10                              8   \n",
       "2              8                             11   \n",
       "3              8                              9   \n",
       "4             14                             12   \n",
       "\n",
       "   人力資源管理 Human Resource Management  \n",
       "0                                13  \n",
       "1                                 9  \n",
       "2                                14  \n",
       "3                                14  \n",
       "4                                13  "
      ]
     },
     "execution_count": 5,
     "metadata": {},
     "output_type": "execute_result"
    }
   ],
   "source": [
    "#修改考科名稱，改成自己喜歡的科目；也同時新增資料編碼，如學生 ID，可方便以 ID 找資料 ❤  \n",
    "#Change the subjects to those I like, set the new indexes starting from 1\n",
    "df_grades.columns = ['姓名 Name','消費者行為_Consumer_Behavior',\n",
    "                      '管理學 Management Science','行銷學 Marketing',\n",
    "                      '組織行為 Oraganizational Behavior',\n",
    "                      '人力資源管理 Human Resource Management']\n",
    "t1 = list(range(100, 200))\n",
    "df_grades = df_grades.assign(ID = t1)\n",
    "df_grades = df_grades[['ID','姓名 Name','消費者行為_Consumer_Behavior',\n",
    "                      '管理學 Management Science','行銷學 Marketing',\n",
    "                      '組織行為 Oraganizational Behavior',\n",
    "                      '人力資源管理 Human Resource Management']]\n",
    "df_grades.head()"
   ]
  },
  {
   "cell_type": "code",
   "execution_count": 6,
   "metadata": {},
   "outputs": [
    {
     "name": "stdout",
     "output_type": "stream",
     "text": [
      "<class 'pandas.core.frame.DataFrame'>\n",
      "RangeIndex: 100 entries, 0 to 99\n",
      "Data columns (total 7 columns):\n",
      " #   Column                            Non-Null Count  Dtype \n",
      "---  ------                            --------------  ----- \n",
      " 0   ID                                100 non-null    int64 \n",
      " 1   姓名 Name                           100 non-null    object\n",
      " 2   消費者行為_Consumer_Behavior           100 non-null    int64 \n",
      " 3   管理學 Management Science            100 non-null    int64 \n",
      " 4   行銷學 Marketing                     100 non-null    int64 \n",
      " 5   組織行為 Oraganizational Behavior     100 non-null    int64 \n",
      " 6   人力資源管理 Human Resource Management  100 non-null    int64 \n",
      "dtypes: int64(6), object(1)\n",
      "memory usage: 5.6+ KB\n"
     ]
    }
   ],
   "source": [
    "df_grades.info()  #重新檢視欄位，發現 ID 欄圍可計算之整數型態"
   ]
  },
  {
   "cell_type": "code",
   "execution_count": 7,
   "metadata": {},
   "outputs": [
    {
     "name": "stdout",
     "output_type": "stream",
     "text": [
      "<class 'pandas.core.frame.DataFrame'>\n",
      "RangeIndex: 100 entries, 0 to 99\n",
      "Data columns (total 7 columns):\n",
      " #   Column                            Non-Null Count  Dtype \n",
      "---  ------                            --------------  ----- \n",
      " 0   ID                                100 non-null    object\n",
      " 1   姓名 Name                           100 non-null    object\n",
      " 2   消費者行為_Consumer_Behavior           100 non-null    int64 \n",
      " 3   管理學 Management Science            100 non-null    int64 \n",
      " 4   行銷學 Marketing                     100 non-null    int64 \n",
      " 5   組織行為 Oraganizational Behavior     100 non-null    int64 \n",
      " 6   人力資源管理 Human Resource Management  100 non-null    int64 \n",
      "dtypes: int64(5), object(2)\n",
      "memory usage: 5.6+ KB\n"
     ]
    }
   ],
   "source": [
    "#將 ID 欄位資料的型態改為字串\n",
    "df_grades = df_grades.astype({'ID':str})\n",
    "df_grades.info()"
   ]
  },
  {
   "cell_type": "markdown",
   "metadata": {},
   "source": [
    "Note: 也可寫成 df_grades['ID'] = df_grades['ID'].astype(str)；但若等號左方沒有指定欄位名稱，如 df_grades = df_grades['ID'].astype(str)，則可能因表示對 df_grades 重新賦值而會出現錯誤"
   ]
  },
  {
   "cell_type": "markdown",
   "metadata": {},
   "source": [
    "### 2. 了解各學生成績表現"
   ]
  },
  {
   "cell_type": "code",
   "execution_count": 8,
   "metadata": {
    "scrolled": false
   },
   "outputs": [
    {
     "data": {
      "text/plain": [
       "0      9\n",
       "1     10\n",
       "2     13\n",
       "3     10\n",
       "4     13\n",
       "      ..\n",
       "95     9\n",
       "96     8\n",
       "97    14\n",
       "98    15\n",
       "99     9\n",
       "Name: 消費者行為_Consumer_Behavior, Length: 100, dtype: int64"
      ]
     },
     "execution_count": 8,
     "metadata": {},
     "output_type": "execute_result"
    }
   ],
   "source": [
    "#如何知道每個學生單一考科的表現？（找單一變數資料的方法）　\n",
    "#How to find out the profermance of certain subject? (the way to find values under certain variable.)\n",
    "df_grades.消費者行為_Consumer_Behavior"
   ]
  },
  {
   "cell_type": "markdown",
   "metadata": {},
   "source": [
    "Note <br>\n",
    "1. 可使用 dot notation \".\" 或方框 [] (indexing operator) 來帶入要找的欄位，但會有以下差異：<br>**dot 速度較快**，但受限於是單純以 . 隔開，不如以方框隔開方式、且方框中還可加 ' ' 來將數字或空格類型資料與其他運算方法隔開，所以在遇到數字開頭或內含空格的欄位名時，會出現辨識議題，故會遇到這種情境時，要改成使用方框 []\n",
    "2. 若要使用方框：<br>\n",
    "因資料型態為 Series，故只需用一層 []，寫法可改為 **df_grades['消費者行為_Consumer_Behavior']**；故若判斷資料型態屬於 dataframe，則須再加上一層方框，使 Python 能辨識要抓取的是 df 資料\n",
    "3. 後不需加括號 ()：<br>\n",
    "此行程式是為了單純秀出原資料表的某部分資料，不是在呼叫函式來將資料放入函數進行數學運算，所以後面不需使用括號 ()；且 Series 函數也不能不搭配其他方法或函數就純呼叫，**'Series' object is not callable**\n",
    "4. 前面不賦值：<br>\n",
    "例如使 a = df_grades.消費者行為_Consumer_Behavior，這樣才能秀出資料表結果；否則此行指令任務將會變成把結果賦給前面的變數（若有），而非呈現結果，同時 Output 也就不會顯示東西了\n",
    "\n",
    "Ref \n",
    "1. \"Difference between using bracket (`[]`) and dot (`.`) notation\"  https://stackoverflow.com/questions/17189642/difference-between-using-bracket-and-dot-notation\n",
    "2. 另一篇講得滿好的文章：\"Should you use \"dot notation\" or \"bracket notation\" with pandas?\"  https://www.dataschool.io/pandas-dot-notation-vs-brackets/"
   ]
  },
  {
   "cell_type": "code",
   "execution_count": 9,
   "metadata": {},
   "outputs": [
    {
     "data": {
      "text/html": [
       "<div>\n",
       "<style scoped>\n",
       "    .dataframe tbody tr th:only-of-type {\n",
       "        vertical-align: middle;\n",
       "    }\n",
       "\n",
       "    .dataframe tbody tr th {\n",
       "        vertical-align: top;\n",
       "    }\n",
       "\n",
       "    .dataframe thead th {\n",
       "        text-align: right;\n",
       "    }\n",
       "</style>\n",
       "<table border=\"1\" class=\"dataframe\">\n",
       "  <thead>\n",
       "    <tr style=\"text-align: right;\">\n",
       "      <th></th>\n",
       "      <th>姓名 Name</th>\n",
       "      <th>消費者行為_Consumer_Behavior</th>\n",
       "      <th>管理學 Management Science</th>\n",
       "    </tr>\n",
       "  </thead>\n",
       "  <tbody>\n",
       "    <tr>\n",
       "      <th>0</th>\n",
       "      <td>劉俊安</td>\n",
       "      <td>9</td>\n",
       "      <td>10</td>\n",
       "    </tr>\n",
       "    <tr>\n",
       "      <th>1</th>\n",
       "      <td>胡玉華</td>\n",
       "      <td>10</td>\n",
       "      <td>10</td>\n",
       "    </tr>\n",
       "    <tr>\n",
       "      <th>2</th>\n",
       "      <td>黃淑婷</td>\n",
       "      <td>13</td>\n",
       "      <td>15</td>\n",
       "    </tr>\n",
       "    <tr>\n",
       "      <th>3</th>\n",
       "      <td>陳上紫</td>\n",
       "      <td>10</td>\n",
       "      <td>10</td>\n",
       "    </tr>\n",
       "    <tr>\n",
       "      <th>4</th>\n",
       "      <td>崔靜成</td>\n",
       "      <td>13</td>\n",
       "      <td>12</td>\n",
       "    </tr>\n",
       "    <tr>\n",
       "      <th>...</th>\n",
       "      <td>...</td>\n",
       "      <td>...</td>\n",
       "      <td>...</td>\n",
       "    </tr>\n",
       "    <tr>\n",
       "      <th>95</th>\n",
       "      <td>蔡佳燕</td>\n",
       "      <td>9</td>\n",
       "      <td>10</td>\n",
       "    </tr>\n",
       "    <tr>\n",
       "      <th>96</th>\n",
       "      <td>吳筱婷</td>\n",
       "      <td>8</td>\n",
       "      <td>10</td>\n",
       "    </tr>\n",
       "    <tr>\n",
       "      <th>97</th>\n",
       "      <td>陳家銘</td>\n",
       "      <td>14</td>\n",
       "      <td>9</td>\n",
       "    </tr>\n",
       "    <tr>\n",
       "      <th>98</th>\n",
       "      <td>李明威</td>\n",
       "      <td>15</td>\n",
       "      <td>9</td>\n",
       "    </tr>\n",
       "    <tr>\n",
       "      <th>99</th>\n",
       "      <td>農揚勇</td>\n",
       "      <td>9</td>\n",
       "      <td>11</td>\n",
       "    </tr>\n",
       "  </tbody>\n",
       "</table>\n",
       "<p>100 rows × 3 columns</p>\n",
       "</div>"
      ],
      "text/plain": [
       "   姓名 Name  消費者行為_Consumer_Behavior  管理學 Management Science\n",
       "0      劉俊安                        9                      10\n",
       "1      胡玉華                       10                      10\n",
       "2      黃淑婷                       13                      15\n",
       "3      陳上紫                       10                      10\n",
       "4      崔靜成                       13                      12\n",
       "..     ...                      ...                     ...\n",
       "95     蔡佳燕                        9                      10\n",
       "96     吳筱婷                        8                      10\n",
       "97     陳家銘                       14                       9\n",
       "98     李明威                       15                       9\n",
       "99     農揚勇                        9                      11\n",
       "\n",
       "[100 rows x 3 columns]"
      ]
     },
     "execution_count": 9,
     "metadata": {},
     "output_type": "execute_result"
    }
   ],
   "source": [
    "#若想了解多科的成績呢？　此時則要使用方框，且因調閱出來的資料屬性屬於 dataframe，故需使用二層方框  \n",
    "#How to know the performance for multiple subjects?  Need to adopt double square brackets.\n",
    "df_grades[[\"姓名 Name\",\"消費者行為_Consumer_Behavior\", '管理學 Management Science']]  #Python 可選擇使用單引號或雙引號，但混用不行喔！"
   ]
  },
  {
   "cell_type": "markdown",
   "metadata": {},
   "source": [
    "### 3. 了解整體表現"
   ]
  },
  {
   "cell_type": "code",
   "execution_count": 10,
   "metadata": {},
   "outputs": [
    {
     "data": {
      "text/plain": [
       "ID                                  1.001011e+297\n",
       "消費者行為_Consumer_Behavior              1.139000e+01\n",
       "管理學 Management Science               1.138000e+01\n",
       "行銷學 Marketing                        1.157000e+01\n",
       "組織行為 Oraganizational Behavior        1.103000e+01\n",
       "人力資源管理 Human Resource Management     1.183000e+01\n",
       "dtype: float64"
      ]
     },
     "execution_count": 10,
     "metadata": {},
     "output_type": "execute_result"
    }
   ],
   "source": [
    "#全體學生的學科表現如何呢？平均值？大多數人成績？高低分？\n",
    "df_grades.mean()"
   ]
  },
  {
   "cell_type": "markdown",
   "metadata": {},
   "source": [
    "Note <br>\n",
    "1. mean 後須加括號：因 mean 屬於此物件的方法，而非屬性，所以須經過運算，故寫括號後，跑出之結果才會是最後期望的單一值；不加括號時，則是秀出運算此函數的過程中調閱之資料\n",
    "2. 括號中未寫明運算軸心時，則預設為 axis = 0：表示加總每列，會得到每科平均值；若 axis = 1，則為加總每欄，將得到每位學生的科目平均。注意，若資料型態為 Series 時，無法指定軸心 axis = 1，會出現錯誤。"
   ]
  },
  {
   "cell_type": "code",
   "execution_count": 11,
   "metadata": {},
   "outputs": [
    {
     "data": {
      "text/plain": [
       "ID                                  150.0\n",
       "消費者行為_Consumer_Behavior              11.0\n",
       "管理學 Management Science               11.0\n",
       "行銷學 Marketing                        11.0\n",
       "組織行為 Oraganizational Behavior        11.0\n",
       "人力資源管理 Human Resource Management     12.0\n",
       "dtype: float64"
      ]
     },
     "execution_count": 11,
     "metadata": {},
     "output_type": "execute_result"
    }
   ],
   "source": [
    "df_grades.median().round(0)"
   ]
  },
  {
   "cell_type": "code",
   "execution_count": 12,
   "metadata": {},
   "outputs": [
    {
     "data": {
      "text/html": [
       "<div>\n",
       "<style scoped>\n",
       "    .dataframe tbody tr th:only-of-type {\n",
       "        vertical-align: middle;\n",
       "    }\n",
       "\n",
       "    .dataframe tbody tr th {\n",
       "        vertical-align: top;\n",
       "    }\n",
       "\n",
       "    .dataframe thead th {\n",
       "        text-align: right;\n",
       "    }\n",
       "</style>\n",
       "<table border=\"1\" class=\"dataframe\">\n",
       "  <thead>\n",
       "    <tr style=\"text-align: right;\">\n",
       "      <th></th>\n",
       "      <th>消費者行為_Consumer_Behavior</th>\n",
       "      <th>管理學 Management Science</th>\n",
       "      <th>行銷學 Marketing</th>\n",
       "      <th>組織行為 Oraganizational Behavior</th>\n",
       "      <th>人力資源管理 Human Resource Management</th>\n",
       "    </tr>\n",
       "  </thead>\n",
       "  <tbody>\n",
       "    <tr>\n",
       "      <th>count</th>\n",
       "      <td>100.00</td>\n",
       "      <td>100.00</td>\n",
       "      <td>100.00</td>\n",
       "      <td>100.00</td>\n",
       "      <td>100.00</td>\n",
       "    </tr>\n",
       "    <tr>\n",
       "      <th>mean</th>\n",
       "      <td>11.39</td>\n",
       "      <td>11.38</td>\n",
       "      <td>11.57</td>\n",
       "      <td>11.03</td>\n",
       "      <td>11.83</td>\n",
       "    </tr>\n",
       "    <tr>\n",
       "      <th>std</th>\n",
       "      <td>2.20</td>\n",
       "      <td>2.27</td>\n",
       "      <td>2.31</td>\n",
       "      <td>2.22</td>\n",
       "      <td>2.49</td>\n",
       "    </tr>\n",
       "    <tr>\n",
       "      <th>min</th>\n",
       "      <td>8.00</td>\n",
       "      <td>8.00</td>\n",
       "      <td>8.00</td>\n",
       "      <td>8.00</td>\n",
       "      <td>8.00</td>\n",
       "    </tr>\n",
       "    <tr>\n",
       "      <th>25%</th>\n",
       "      <td>9.00</td>\n",
       "      <td>9.00</td>\n",
       "      <td>10.00</td>\n",
       "      <td>9.00</td>\n",
       "      <td>9.00</td>\n",
       "    </tr>\n",
       "    <tr>\n",
       "      <th>50%</th>\n",
       "      <td>11.00</td>\n",
       "      <td>11.00</td>\n",
       "      <td>11.00</td>\n",
       "      <td>11.00</td>\n",
       "      <td>12.00</td>\n",
       "    </tr>\n",
       "    <tr>\n",
       "      <th>75%</th>\n",
       "      <td>13.00</td>\n",
       "      <td>13.00</td>\n",
       "      <td>14.00</td>\n",
       "      <td>13.00</td>\n",
       "      <td>14.00</td>\n",
       "    </tr>\n",
       "    <tr>\n",
       "      <th>max</th>\n",
       "      <td>15.00</td>\n",
       "      <td>15.00</td>\n",
       "      <td>15.00</td>\n",
       "      <td>15.00</td>\n",
       "      <td>15.00</td>\n",
       "    </tr>\n",
       "  </tbody>\n",
       "</table>\n",
       "</div>"
      ],
      "text/plain": [
       "       消費者行為_Consumer_Behavior  管理學 Management Science  行銷學 Marketing  \\\n",
       "count                   100.00                  100.00         100.00   \n",
       "mean                     11.39                   11.38          11.57   \n",
       "std                       2.20                    2.27           2.31   \n",
       "min                       8.00                    8.00           8.00   \n",
       "25%                       9.00                    9.00          10.00   \n",
       "50%                      11.00                   11.00          11.00   \n",
       "75%                      13.00                   13.00          14.00   \n",
       "max                      15.00                   15.00          15.00   \n",
       "\n",
       "       組織行為 Oraganizational Behavior  人力資源管理 Human Resource Management  \n",
       "count                         100.00                            100.00  \n",
       "mean                           11.03                             11.83  \n",
       "std                             2.22                              2.49  \n",
       "min                             8.00                              8.00  \n",
       "25%                             9.00                              9.00  \n",
       "50%                            11.00                             12.00  \n",
       "75%                            13.00                             14.00  \n",
       "max                            15.00                             15.00  "
      ]
     },
     "execution_count": 12,
     "metadata": {},
     "output_type": "execute_result"
    }
   ],
   "source": [
    "#快速解，用 describe 調閱整合性敘述統計資料\n",
    "df_grades.describe().round(2)"
   ]
  },
  {
   "cell_type": "markdown",
   "metadata": {},
   "source": [
    "### 4. 作圖協助分析"
   ]
  },
  {
   "cell_type": "code",
   "execution_count": 13,
   "metadata": {},
   "outputs": [
    {
     "data": {
      "text/html": [
       "<div>\n",
       "<style scoped>\n",
       "    .dataframe tbody tr th:only-of-type {\n",
       "        vertical-align: middle;\n",
       "    }\n",
       "\n",
       "    .dataframe tbody tr th {\n",
       "        vertical-align: top;\n",
       "    }\n",
       "\n",
       "    .dataframe thead th {\n",
       "        text-align: right;\n",
       "    }\n",
       "</style>\n",
       "<table border=\"1\" class=\"dataframe\">\n",
       "  <thead>\n",
       "    <tr style=\"text-align: right;\">\n",
       "      <th></th>\n",
       "      <th>消費者行為_Consumer_Behavior</th>\n",
       "      <th>管理學 Management Science</th>\n",
       "      <th>行銷學 Marketing</th>\n",
       "      <th>組織行為 Oraganizational Behavior</th>\n",
       "      <th>人力資源管理 Human Resource Management</th>\n",
       "    </tr>\n",
       "  </thead>\n",
       "  <tbody>\n",
       "    <tr>\n",
       "      <th>mean</th>\n",
       "      <td>11.39</td>\n",
       "      <td>11.38</td>\n",
       "      <td>11.57</td>\n",
       "      <td>11.03</td>\n",
       "      <td>11.83</td>\n",
       "    </tr>\n",
       "    <tr>\n",
       "      <th>50%</th>\n",
       "      <td>11.00</td>\n",
       "      <td>11.00</td>\n",
       "      <td>11.00</td>\n",
       "      <td>11.00</td>\n",
       "      <td>12.00</td>\n",
       "    </tr>\n",
       "  </tbody>\n",
       "</table>\n",
       "</div>"
      ],
      "text/plain": [
       "      消費者行為_Consumer_Behavior  管理學 Management Science  行銷學 Marketing  \\\n",
       "mean                    11.39                   11.38          11.57   \n",
       "50%                     11.00                   11.00          11.00   \n",
       "\n",
       "      組織行為 Oraganizational Behavior  人力資源管理 Human Resource Management  \n",
       "mean                          11.03                             11.83  \n",
       "50%                           11.00                             12.00  "
      ]
     },
     "execution_count": 13,
     "metadata": {},
     "output_type": "execute_result"
    }
   ],
   "source": [
    "#取平均數和中位數來畫圖\n",
    "df_grades.describe().iloc[[1,5],:]"
   ]
  },
  {
   "cell_type": "code",
   "execution_count": 14,
   "metadata": {},
   "outputs": [
    {
     "data": {
      "text/html": [
       "<div>\n",
       "<style scoped>\n",
       "    .dataframe tbody tr th:only-of-type {\n",
       "        vertical-align: middle;\n",
       "    }\n",
       "\n",
       "    .dataframe tbody tr th {\n",
       "        vertical-align: top;\n",
       "    }\n",
       "\n",
       "    .dataframe thead th {\n",
       "        text-align: right;\n",
       "    }\n",
       "</style>\n",
       "<table border=\"1\" class=\"dataframe\">\n",
       "  <thead>\n",
       "    <tr style=\"text-align: right;\">\n",
       "      <th></th>\n",
       "      <th>mean</th>\n",
       "      <th>50%</th>\n",
       "    </tr>\n",
       "  </thead>\n",
       "  <tbody>\n",
       "    <tr>\n",
       "      <th>消費者行為_Consumer_Behavior</th>\n",
       "      <td>11.39</td>\n",
       "      <td>11.0</td>\n",
       "    </tr>\n",
       "    <tr>\n",
       "      <th>管理學 Management Science</th>\n",
       "      <td>11.38</td>\n",
       "      <td>11.0</td>\n",
       "    </tr>\n",
       "    <tr>\n",
       "      <th>行銷學 Marketing</th>\n",
       "      <td>11.57</td>\n",
       "      <td>11.0</td>\n",
       "    </tr>\n",
       "    <tr>\n",
       "      <th>組織行為 Oraganizational Behavior</th>\n",
       "      <td>11.03</td>\n",
       "      <td>11.0</td>\n",
       "    </tr>\n",
       "    <tr>\n",
       "      <th>人力資源管理 Human Resource Management</th>\n",
       "      <td>11.83</td>\n",
       "      <td>12.0</td>\n",
       "    </tr>\n",
       "  </tbody>\n",
       "</table>\n",
       "</div>"
      ],
      "text/plain": [
       "                                   mean   50%\n",
       "消費者行為_Consumer_Behavior           11.39  11.0\n",
       "管理學 Management Science            11.38  11.0\n",
       "行銷學 Marketing                     11.57  11.0\n",
       "組織行為 Oraganizational Behavior     11.03  11.0\n",
       "人力資源管理 Human Resource Management  11.83  12.0"
      ]
     },
     "execution_count": 14,
     "metadata": {},
     "output_type": "execute_result"
    }
   ],
   "source": [
    "df_plot = df_grades.describe().iloc[[1,5],:].T\n",
    "df_plot"
   ]
  },
  {
   "cell_type": "markdown",
   "metadata": {},
   "source": [
    "根據 dataframe 資料畫圖時，用 .plot，並可能要先轉置 dataframe；根據 x, y list 畫圖時，使用 matplot 套件的 .plt.scatter/plot/figure 等"
   ]
  },
  {
   "cell_type": "code",
   "execution_count": 15,
   "metadata": {},
   "outputs": [
    {
     "data": {
      "text/plain": [
       "<AxesSubplot:>"
      ]
     },
     "execution_count": 15,
     "metadata": {},
     "output_type": "execute_result"
    },
    {
     "data": {
      "image/png": "[encoded data removed]",
      "text/plain": [
       "<Figure size 1224x360 with 1 Axes>"
      ]
     },
     "metadata": {
      "needs_background": "light"
     },
     "output_type": "display_data"
    }
   ],
   "source": [
    "df_plot.plot(kind = 'bar', ylim = (10,12.5), figsize = (17,5), rot = 10, fontsize = 12, grid = True) "
   ]
  },
  {
   "cell_type": "markdown",
   "metadata": {},
   "source": [
    "Note<br>\n",
    "1. 將 y 軸座標限縮在 10 與 12.5 間，方便看出差異\n",
    "2. 可以看到學員們在人力資源管理課程有平均而言較好的表現，較差的則是組織行為。\n",
    "3. 而 describe() 表缺少眾數資訊，需另外計算，以來解各成績峰態分配"
   ]
  },
  {
   "cell_type": "code",
   "execution_count": 16,
   "metadata": {},
   "outputs": [
    {
     "data": {
      "text/plain": [
       "array([[<AxesSubplot:title={'center':'消費者行為_Consumer_Behavior'}>,\n",
       "        <AxesSubplot:title={'center':'管理學 Management Science'}>],\n",
       "       [<AxesSubplot:title={'center':'行銷學 Marketing'}>,\n",
       "        <AxesSubplot:title={'center':'組織行為 Oraganizational Behavior'}>],\n",
       "       [<AxesSubplot:title={'center':'人力資源管理 Human Resource Management'}>,\n",
       "        <AxesSubplot:>]], dtype=object)"
      ]
     },
     "execution_count": 16,
     "metadata": {},
     "output_type": "execute_result"
    },
    {
     "data": {
      "image/png": "[encoded data removed]",
      "text/plain": [
       "<Figure size 1080x720 with 6 Axes>"
      ]
     },
     "metadata": {
      "needs_background": "light"
     },
     "output_type": "display_data"
    }
   ],
   "source": [
    "df_grades.hist(figsize = (15,10))"
   ]
  },
  {
   "cell_type": "markdown",
   "metadata": {},
   "source": [
    "由這些可以看出各學科的眾數分別是：14, 9, (10, 14), 8, 15，可再結合前述資訊做分析"
   ]
  }
 ],
 "metadata": {
  "kernelspec": {
   "display_name": "Python 3",
   "language": "python",
   "name": "python3"
  },
  "language_info": {
   "codemirror_mode": {
    "name": "ipython",
    "version": 3
   },
   "file_extension": ".py",
   "mimetype": "text/x-python",
   "name": "python",
   "nbconvert_exporter": "python",
   "pygments_lexer": "ipython3",
   "version": "3.8.5"
  }
 },
 "nbformat": 4,
 "nbformat_minor": 4
}
